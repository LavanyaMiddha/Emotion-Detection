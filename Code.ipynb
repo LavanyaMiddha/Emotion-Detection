{
 "cells": [
  {
   "cell_type": "code",
   "execution_count": 1,
   "metadata": {},
   "outputs": [
    {
     "name": "stderr",
     "output_type": "stream",
     "text": [
      "Using TensorFlow backend.\n"
     ]
    }
   ],
   "source": [
    "import tensorflow as tf  \n",
    "import keras\n",
    "from keras.preprocessing.image import ImageDataGenerator  "
   ]
  },
  {
   "cell_type": "code",
   "execution_count": 2,
   "metadata": {},
   "outputs": [
    {
     "data": {
      "text/plain": [
       "'2.4.1'"
      ]
     },
     "execution_count": 2,
     "metadata": {},
     "output_type": "execute_result"
    }
   ],
   "source": [
    "tf.__version__  "
   ]
  },
  {
   "cell_type": "code",
   "execution_count": 3,
   "metadata": {},
   "outputs": [],
   "source": [
    "import pandas as pd"
   ]
  },
  {
   "cell_type": "code",
   "execution_count": 4,
   "metadata": {},
   "outputs": [
    {
     "data": {
      "text/html": [
       "<div>\n",
       "<style scoped>\n",
       "    .dataframe tbody tr th:only-of-type {\n",
       "        vertical-align: middle;\n",
       "    }\n",
       "\n",
       "    .dataframe tbody tr th {\n",
       "        vertical-align: top;\n",
       "    }\n",
       "\n",
       "    .dataframe thead th {\n",
       "        text-align: right;\n",
       "    }\n",
       "</style>\n",
       "<table border=\"1\" class=\"dataframe\">\n",
       "  <thead>\n",
       "    <tr style=\"text-align: right;\">\n",
       "      <th></th>\n",
       "      <th>filename</th>\n",
       "      <th>width</th>\n",
       "      <th>height</th>\n",
       "      <th>class</th>\n",
       "      <th>xmin</th>\n",
       "      <th>ymin</th>\n",
       "      <th>xmax</th>\n",
       "      <th>ymax</th>\n",
       "    </tr>\n",
       "  </thead>\n",
       "  <tbody>\n",
       "    <tr>\n",
       "      <th>0</th>\n",
       "      <td>1.jpg</td>\n",
       "      <td>800</td>\n",
       "      <td>600</td>\n",
       "      <td>Sad</td>\n",
       "      <td>156</td>\n",
       "      <td>79</td>\n",
       "      <td>686</td>\n",
       "      <td>451</td>\n",
       "    </tr>\n",
       "    <tr>\n",
       "      <th>1</th>\n",
       "      <td>10.jpg</td>\n",
       "      <td>800</td>\n",
       "      <td>600</td>\n",
       "      <td>Sad</td>\n",
       "      <td>180</td>\n",
       "      <td>67</td>\n",
       "      <td>618</td>\n",
       "      <td>536</td>\n",
       "    </tr>\n",
       "    <tr>\n",
       "      <th>2</th>\n",
       "      <td>11.jpg</td>\n",
       "      <td>800</td>\n",
       "      <td>600</td>\n",
       "      <td>Sad</td>\n",
       "      <td>278</td>\n",
       "      <td>93</td>\n",
       "      <td>513</td>\n",
       "      <td>413</td>\n",
       "    </tr>\n",
       "    <tr>\n",
       "      <th>3</th>\n",
       "      <td>12.jpg</td>\n",
       "      <td>800</td>\n",
       "      <td>600</td>\n",
       "      <td>Sad</td>\n",
       "      <td>286</td>\n",
       "      <td>121</td>\n",
       "      <td>512</td>\n",
       "      <td>391</td>\n",
       "    </tr>\n",
       "    <tr>\n",
       "      <th>4</th>\n",
       "      <td>13.jpg</td>\n",
       "      <td>800</td>\n",
       "      <td>600</td>\n",
       "      <td>Sad</td>\n",
       "      <td>340</td>\n",
       "      <td>252</td>\n",
       "      <td>518</td>\n",
       "      <td>463</td>\n",
       "    </tr>\n",
       "  </tbody>\n",
       "</table>\n",
       "</div>"
      ],
      "text/plain": [
       "  filename  width  height class  xmin  ymin  xmax  ymax\n",
       "0    1.jpg    800     600   Sad   156    79   686   451\n",
       "1   10.jpg    800     600   Sad   180    67   618   536\n",
       "2   11.jpg    800     600   Sad   278    93   513   413\n",
       "3   12.jpg    800     600   Sad   286   121   512   391\n",
       "4   13.jpg    800     600   Sad   340   252   518   463"
      ]
     },
     "execution_count": 4,
     "metadata": {},
     "output_type": "execute_result"
    }
   ],
   "source": [
    "train=pd.read_csv('train/train_labels.csv')\n",
    "train.head()"
   ]
  },
  {
   "cell_type": "code",
   "execution_count": 5,
   "metadata": {},
   "outputs": [
    {
     "data": {
      "text/html": [
       "<div>\n",
       "<style scoped>\n",
       "    .dataframe tbody tr th:only-of-type {\n",
       "        vertical-align: middle;\n",
       "    }\n",
       "\n",
       "    .dataframe tbody tr th {\n",
       "        vertical-align: top;\n",
       "    }\n",
       "\n",
       "    .dataframe thead th {\n",
       "        text-align: right;\n",
       "    }\n",
       "</style>\n",
       "<table border=\"1\" class=\"dataframe\">\n",
       "  <thead>\n",
       "    <tr style=\"text-align: right;\">\n",
       "      <th></th>\n",
       "      <th>filename</th>\n",
       "      <th>width</th>\n",
       "      <th>height</th>\n",
       "      <th>class</th>\n",
       "      <th>xmin</th>\n",
       "      <th>ymin</th>\n",
       "      <th>xmax</th>\n",
       "      <th>ymax</th>\n",
       "    </tr>\n",
       "  </thead>\n",
       "  <tbody>\n",
       "    <tr>\n",
       "      <th>0</th>\n",
       "      <td>23.jpg</td>\n",
       "      <td>800</td>\n",
       "      <td>600</td>\n",
       "      <td>Sad</td>\n",
       "      <td>292</td>\n",
       "      <td>75</td>\n",
       "      <td>576</td>\n",
       "      <td>339</td>\n",
       "    </tr>\n",
       "    <tr>\n",
       "      <th>1</th>\n",
       "      <td>24.jpg</td>\n",
       "      <td>800</td>\n",
       "      <td>600</td>\n",
       "      <td>Sad</td>\n",
       "      <td>289</td>\n",
       "      <td>116</td>\n",
       "      <td>456</td>\n",
       "      <td>348</td>\n",
       "    </tr>\n",
       "    <tr>\n",
       "      <th>2</th>\n",
       "      <td>25.jpg</td>\n",
       "      <td>800</td>\n",
       "      <td>600</td>\n",
       "      <td>Sad</td>\n",
       "      <td>284</td>\n",
       "      <td>88</td>\n",
       "      <td>509</td>\n",
       "      <td>421</td>\n",
       "    </tr>\n",
       "    <tr>\n",
       "      <th>3</th>\n",
       "      <td>48.jpg</td>\n",
       "      <td>800</td>\n",
       "      <td>600</td>\n",
       "      <td>Happy</td>\n",
       "      <td>145</td>\n",
       "      <td>79</td>\n",
       "      <td>654</td>\n",
       "      <td>415</td>\n",
       "    </tr>\n",
       "    <tr>\n",
       "      <th>4</th>\n",
       "      <td>49.jpg</td>\n",
       "      <td>800</td>\n",
       "      <td>600</td>\n",
       "      <td>Happy</td>\n",
       "      <td>390</td>\n",
       "      <td>159</td>\n",
       "      <td>744</td>\n",
       "      <td>527</td>\n",
       "    </tr>\n",
       "  </tbody>\n",
       "</table>\n",
       "</div>"
      ],
      "text/plain": [
       "  filename  width  height  class  xmin  ymin  xmax  ymax\n",
       "0   23.jpg    800     600    Sad   292    75   576   339\n",
       "1   24.jpg    800     600    Sad   289   116   456   348\n",
       "2   25.jpg    800     600    Sad   284    88   509   421\n",
       "3   48.jpg    800     600  Happy   145    79   654   415\n",
       "4   49.jpg    800     600  Happy   390   159   744   527"
      ]
     },
     "execution_count": 5,
     "metadata": {},
     "output_type": "execute_result"
    }
   ],
   "source": [
    "test=pd.read_csv('test/test_labels.csv')\n",
    "test.head()"
   ]
  },
  {
   "cell_type": "code",
   "execution_count": 6,
   "metadata": {},
   "outputs": [],
   "source": [
    "import os\n",
    "import cv2"
   ]
  },
  {
   "cell_type": "code",
   "execution_count": 7,
   "metadata": {
    "scrolled": true
   },
   "outputs": [
    {
     "name": "stdout",
     "output_type": "stream",
     "text": [
      "img\\Train\\Sad\\1.jpg\n",
      "img\\Train\\Sad\\10.jpg\n",
      "img\\Train\\Sad\\11.jpg\n",
      "img\\Train\\Sad\\12.jpg\n",
      "img\\Train\\Sad\\13.jpg\n",
      "img\\Train\\Sad\\14.jpg\n",
      "img\\Train\\Sad\\15.jpg\n",
      "img\\Train\\Sad\\16.jpg\n",
      "img\\Train\\Sad\\17.jpg\n",
      "img\\Train\\Sad\\18.jpg\n",
      "img\\Train\\Sad\\19.jpg\n",
      "img\\Train\\Sad\\2.jpg\n",
      "img\\Train\\Sad\\20.jpg\n",
      "img\\Train\\Sad\\21.jpg\n",
      "img\\Train\\Sad\\22.jpg\n",
      "img\\Train\\Happy\\26.jpg\n",
      "img\\Train\\Happy\\27.jpg\n",
      "img\\Train\\Happy\\28.jpg\n",
      "img\\Train\\Happy\\29.jpg\n",
      "img\\Train\\Sad\\3.jpg\n",
      "img\\Train\\Happy\\30.jpg\n",
      "img\\Train\\Happy\\31.jpg\n",
      "img\\Train\\Happy\\32.jpg\n",
      "img\\Train\\Happy\\33.jpg\n",
      "img\\Train\\Happy\\34.jpg\n",
      "img\\Train\\Happy\\35.jpg\n",
      "img\\Train\\Happy\\36.jpg\n",
      "img\\Train\\Happy\\37.jpg\n",
      "img\\Train\\Happy\\38.jpg\n",
      "img\\Train\\Happy\\39.jpg\n",
      "img\\Train\\Sad\\4.jpg\n",
      "img\\Train\\Happy\\40.jpg\n",
      "img\\Train\\Happy\\41.jpg\n",
      "img\\Train\\Happy\\42.jpg\n",
      "img\\Train\\Happy\\43.jpg\n",
      "img\\Train\\Happy\\44.jpg\n",
      "img\\Train\\Happy\\45.jpg\n",
      "img\\Train\\Happy\\46.jpg\n",
      "img\\Train\\Happy\\47.jpg\n",
      "img\\Train\\Sad\\5.jpg\n",
      "img\\Train\\Surprised\\51.jpg\n",
      "img\\Train\\Surprised\\52.jpg\n",
      "img\\Train\\Surprised\\53.jpg\n",
      "img\\Train\\Surprised\\54.jpg\n",
      "img\\Train\\Surprised\\55.jpg\n",
      "img\\Train\\Surprised\\56.jpg\n",
      "img\\Train\\Surprised\\57.jpg\n",
      "img\\Train\\Surprised\\58.jpg\n",
      "img\\Train\\Surprised\\59.jpg\n",
      "img\\Train\\Sad\\6.jpg\n",
      "img\\Train\\Surprised\\60.jpg\n",
      "img\\Train\\Surprised\\61.jpg\n",
      "img\\Train\\Surprised\\62.jpg\n",
      "img\\Train\\Surprised\\63.jpg\n",
      "img\\Train\\Surprised\\64.jpg\n",
      "img\\Train\\Surprised\\65.jpg\n",
      "img\\Train\\Surprised\\66.jpg\n",
      "img\\Train\\Surprised\\67.jpg\n",
      "img\\Train\\Surprised\\68.jpg\n",
      "img\\Train\\Surprised\\69.jpg\n",
      "img\\Train\\Sad\\7.jpg\n",
      "img\\Train\\Surprised\\70.jpg\n",
      "img\\Train\\Surprised\\71.jpg\n",
      "img\\Train\\Surprised\\72.jpg\n",
      "img\\Train\\Sad\\8.jpg\n",
      "img\\Train\\Sad\\9.jpg\n"
     ]
    }
   ],
   "source": [
    "for index, row in train.iterrows():\n",
    "    path=\"Train/\"+row[\"filename\"]\n",
    "    img = cv2.imread(path)\n",
    "    x_min=row[\"xmin\"]\n",
    "    x_max=row[\"xmax\"]\n",
    "    y_min=row[\"ymin\"]\n",
    "    y_max=row[\"ymax\"]\n",
    "    crop_img = img[y_min:y_max, x_min:x_max]\n",
    "    path=os.path.join('img','Train',str(row['class']),str(row[\"filename\"]))\n",
    "    print(path)\n",
    "    cv2.imwrite(path, crop_img)\n",
    "    #cv2.imshow('image',crop_img)\n",
    "    #cv2.waitKey(0)"
   ]
  },
  {
   "cell_type": "code",
   "execution_count": 8,
   "metadata": {
    "scrolled": true
   },
   "outputs": [
    {
     "name": "stdout",
     "output_type": "stream",
     "text": [
      "img\\Test\\Sad\\23.jpg\n",
      "img\\Test\\Sad\\24.jpg\n",
      "img\\Test\\Sad\\25.jpg\n",
      "img\\Test\\Happy\\48.jpg\n",
      "img\\Test\\Happy\\49.jpg\n",
      "img\\Test\\Happy\\50.jpg\n",
      "img\\Test\\Surprised\\73.jpg\n",
      "img\\Test\\Surprised\\74.jpg\n",
      "img\\Test\\Surprised\\75.jpg\n"
     ]
    }
   ],
   "source": [
    "for index, row in test.iterrows():\n",
    "    path=\"Test/\"+row[\"filename\"]\n",
    "    img = cv2.imread(path)\n",
    "    x_min=row[\"xmin\"]\n",
    "    x_max=row[\"xmax\"]\n",
    "    y_min=row[\"ymin\"]\n",
    "    y_max=row[\"ymax\"]\n",
    "    crop_img = img[y_min:y_max, x_min:x_max]\n",
    "    path=os.path.join('img','Test',str(row['class']),str(row[\"filename\"]))\n",
    "    print(path)\n",
    "    cv2.imwrite(path, crop_img)\n",
    "    cv2.waitKey(0)"
   ]
  }
 ],
 "metadata": {
  "kernelspec": {
   "display_name": "Python 3",
   "language": "python",
   "name": "python3"
  },
  "language_info": {
   "codemirror_mode": {
    "name": "ipython",
    "version": 3
   },
   "file_extension": ".py",
   "mimetype": "text/x-python",
   "name": "python",
   "nbconvert_exporter": "python",
   "pygments_lexer": "ipython3",
   "version": "3.7.9"
  }
 },
 "nbformat": 4,
 "nbformat_minor": 4
}
